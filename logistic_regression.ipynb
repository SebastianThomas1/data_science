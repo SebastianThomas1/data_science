{
 "cells": [
  {
   "cell_type": "code",
   "execution_count": null,
   "metadata": {},
   "outputs": [],
   "source": [
    "# data\n",
    "import numpy as np\n",
    "from scipy.special import expit # sigmoid function\n",
    "\n",
    "# machine learning\n",
    "from sklearn.base import BaseEstimator, ClassifierMixin"
   ]
  },
  {
   "cell_type": "code",
   "execution_count": null,
   "metadata": {},
   "outputs": [],
   "source": [
    "# logistic regression\n",
    "class LogisticRegression(BaseEstimator, ClassifierMixin):\n",
    "    \n",
    "    def __init__(self, fit_intercept=True, method='gradient_descent', learning_rate=0.1,\n",
    "                 precision=None, max_iter=10000):\n",
    "        self.fit_intercept = fit_intercept\n",
    "        self.method = method\n",
    "        self.learning_rate = learning_rate\n",
    "        self.precision = precision\n",
    "        self.max_iter = max_iter\n",
    " \n",
    "    def _add_intercept_entries(self, X):\n",
    "        return np.concatenate((np.ones((X.shape[0], 1)), X), axis=1)\n",
    "    \n",
    "    def _euclidean_norm(x):\n",
    "        return math.sqrt(np.sum(x*x))\n",
    "\n",
    "    def _gradient_descent(self, X, y):\n",
    "        (m, n) = X.shape\n",
    "\n",
    "        # random initialisation\n",
    "        c = np.random.randn(n)\n",
    "\n",
    "        for _ in range(self.max_iter):\n",
    "            # determine gradient: grad loss = 2/m X^T (expit(X c) - y)\n",
    "            gr = 2/m * np.matmul(X.transpose(), expit(np.matmul(X, c)) - y)\n",
    "            # eventually stop if gradient is too small\n",
    "            if self.precision != None and euclidean_norm(gr) < self.precision:\n",
    "                break\n",
    "            # update argument by subtracting step\n",
    "            c -= self.learning_rate*gr\n",
    "\n",
    "        return c\n",
    "\n",
    "    def fit(self, X, y):\n",
    "        if self.fit_intercept:\n",
    "            X = self._add_intercept_entries(X)\n",
    "        \n",
    "        if self.method == 'gradient_descent':\n",
    "            self.coef_ = self._gradient_descent(X, y)\n",
    "        \n",
    "        return self\n",
    "    \n",
    "    def predict_proba(self, X):\n",
    "        if self.fit_intercept:\n",
    "            X = self._add_intercept_entries(X)\n",
    "\n",
    "        return expit(np.matmul(X, self.coef_))\n",
    "    \n",
    "    def predict(self, X):\n",
    "        return (self.predict_proba(X) >= 0.5).astype(int)"
   ]
  },
  {
   "cell_type": "code",
   "execution_count": null,
   "metadata": {},
   "outputs": [],
   "source": [
    "# example\n",
    "from sklearn.datasets import load_breast_cancer\n",
    "from sklearn.pipeline import make_pipeline\n",
    "from sklearn.preprocessing import StandardScaler\n",
    "from sklearn.model_selection import train_test_split\n",
    "from sklearn.metrics import accuracy_score\n",
    "\n",
    "(X, y) = load_breast_cancer(return_X_y=True)\n",
    "\n",
    "(X_train, X_test, y_train, y_test) = train_test_split(X, y, random_state=0)\n",
    "\n",
    "classifier = make_pipeline(StandardScaler(), LogisticRegression())\n",
    "classifier.fit(X_train, y_train)\n",
    "\n",
    "print('accuracy:', accuracy_score(y_test, classifier.predict(X_test)))"
   ]
  }
 ],
 "metadata": {
  "kernelspec": {
   "display_name": "Python 3",
   "language": "python",
   "name": "python3"
  },
  "language_info": {
   "codemirror_mode": {
    "name": "ipython",
    "version": 3
   },
   "file_extension": ".py",
   "mimetype": "text/x-python",
   "name": "python",
   "nbconvert_exporter": "python",
   "pygments_lexer": "ipython3",
   "version": "3.6.10"
  }
 },
 "nbformat": 4,
 "nbformat_minor": 4
}
