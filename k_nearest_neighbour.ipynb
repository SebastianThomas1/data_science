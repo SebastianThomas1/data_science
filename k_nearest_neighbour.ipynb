{
 "cells": [
  {
   "cell_type": "markdown",
   "metadata": {},
   "source": [
    "# k-nearest neighbour\n",
    "\n",
    "An implementation of the k-nearest neighbour algorithm.\n",
    "\n",
    "Sebastian Thomas"
   ]
  },
  {
   "cell_type": "code",
   "execution_count": 1,
   "metadata": {},
   "outputs": [],
   "source": [
    "# python\n",
    "import bisect\n",
    "from collections import Counter\n",
    "\n",
    "# data\n",
    "import numpy as np\n",
    "\n",
    "# machine learning\n",
    "from sklearn.base import BaseEstimator, ClassifierMixin"
   ]
  },
  {
   "cell_type": "code",
   "execution_count": 2,
   "metadata": {},
   "outputs": [],
   "source": [
    "class KNN(BaseEstimator, ClassifierMixin):\n",
    "    \n",
    "    def __init__(self, n_neighbours=5):\n",
    "        self.n_neighbours = n_neighbours\n",
    "        \n",
    "    def _distance(self, x, y):\n",
    "        return np.sqrt(np.sum((x - y)**2))\n",
    "        \n",
    "    def _neighbour_indices(self, x_pred):\n",
    "        distances = []\n",
    "        \n",
    "        for (idx, x_train) in enumerate(self.X_train_):\n",
    "            # insert dist in the sorted list distances\n",
    "            bisect.insort(distances, (self._distance(x_pred, x_train), idx))\n",
    "            # reduce length\n",
    "            if len(distances) > self.n_neighbours:\n",
    "                distances.pop()\n",
    "            \n",
    "        return [idx for (dist, idx) in distances]\n",
    "    \n",
    "    def _neighbour_targets(self, x_pred):\n",
    "        return [self.y_train_[idx] for idx in self._neighbour_indices(x_pred)]\n",
    "\n",
    "    def fit(self, X_train, y_train):\n",
    "        self.X_train_ = X_train\n",
    "        self.y_train_ = y_train\n",
    "    \n",
    "    def predict(self, X_pred):\n",
    "        predictions = [Counter(self._neighbour_targets(x_pred)).most_common(1)[0][0] for x_pred in X_pred]        \n",
    "        return np.array(predictions)"
   ]
  },
  {
   "cell_type": "code",
   "execution_count": 3,
   "metadata": {},
   "outputs": [
    {
     "name": "stdout",
     "output_type": "stream",
     "text": [
      "accuracy for k = 5: 0.9736842105263158\n"
     ]
    }
   ],
   "source": [
    "# example\n",
    "from sklearn.datasets import load_iris\n",
    "from sklearn.pipeline import make_pipeline\n",
    "from sklearn.preprocessing import StandardScaler\n",
    "from sklearn.model_selection import train_test_split\n",
    "from sklearn.metrics import accuracy_score\n",
    "\n",
    "(X, y) = load_iris(return_X_y=True)\n",
    "\n",
    "(X_train, X_test, y_train, y_test) = train_test_split(X, y, random_state=0)\n",
    "\n",
    "classifier = make_pipeline(StandardScaler(), KNN())\n",
    "classifier.fit(X_train, y_train)\n",
    "\n",
    "print('accuracy for k = 5:', accuracy_score(y_test, classifier.predict(X_test)))"
   ]
  }
 ],
 "metadata": {
  "kernelspec": {
   "display_name": "Python 3",
   "language": "python",
   "name": "python3"
  },
  "language_info": {
   "codemirror_mode": {
    "name": "ipython",
    "version": 3
   },
   "file_extension": ".py",
   "mimetype": "text/x-python",
   "name": "python",
   "nbconvert_exporter": "python",
   "pygments_lexer": "ipython3",
   "version": "3.6.10"
  }
 },
 "nbformat": 4,
 "nbformat_minor": 4
}
