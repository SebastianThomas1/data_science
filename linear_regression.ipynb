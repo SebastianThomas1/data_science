{
 "cells": [
  {
   "cell_type": "markdown",
   "metadata": {},
   "source": [
    "# Linear regression\n",
    "\n",
    "An implementation of linear regression via least squares approximation.\n",
    "\n",
    "Sebastian Thomas"
   ]
  },
  {
   "cell_type": "code",
   "execution_count": null,
   "metadata": {},
   "outputs": [],
   "source": [
    "# data\n",
    "import numpy as np\n",
    "\n",
    "# machine learning\n",
    "from sklearn.base import BaseEstimator, RegressorMixin"
   ]
  },
  {
   "cell_type": "code",
   "execution_count": null,
   "metadata": {},
   "outputs": [],
   "source": [
    "# linear regression via least squares approximation\n",
    "class LinearRegression(BaseEstimator, RegressorMixin):\n",
    "    \n",
    "    def __init__(self, fit_intercept=True):\n",
    "        self.fit_intercept = fit_intercept\n",
    " \n",
    "    def _add_intercept_entries(self, X):\n",
    "        return np.concatenate((np.ones((X.shape[0], 1)), X), axis=1)\n",
    "    \n",
    "    def fit(self, X_train, y_train):\n",
    "        if self.fit_intercept:\n",
    "            X_train = self._add_intercept_entries(X_train)\n",
    "        \n",
    "        self.coef_ = np.linalg.solve(np.matmul(X_train.transpose(), X_train),\n",
    "                                     np.matmul(X_train.transpose(), y_train))\n",
    "        \n",
    "        return self\n",
    "    \n",
    "    def predict(self, X):\n",
    "        if self.fit_intercept:\n",
    "            X = self._add_intercept_entries(X)\n",
    "\n",
    "        return np.matmul(X, self.coef_)"
   ]
  },
  {
   "cell_type": "code",
   "execution_count": null,
   "metadata": {},
   "outputs": [],
   "source": [
    "# example\n",
    "import math\n",
    "\n",
    "from sklearn.datasets import load_boston\n",
    "from sklearn.pipeline import make_pipeline\n",
    "from sklearn.preprocessing import StandardScaler\n",
    "from sklearn.model_selection import train_test_split\n",
    "from sklearn.metrics import r2_score, mean_squared_error\n",
    "\n",
    "(X, y) = load_boston(return_X_y=True)\n",
    "\n",
    "(X_train, X_test, y_train, y_test) = train_test_split(X, y, random_state=0)\n",
    "\n",
    "regressor = make_pipeline(StandardScaler(), LinearRegression())\n",
    "regressor.fit(X_train, y_train)\n",
    "\n",
    "print('R squared:', r2_score(y_test, regressor.predict(X_test)))\n",
    "print('root mean squared error:', math.sqrt(mean_squared_error(y_test, regressor.predict(X_test))))"
   ]
  }
 ],
 "metadata": {
  "kernelspec": {
   "display_name": "Python 3",
   "language": "python",
   "name": "python3"
  },
  "language_info": {
   "codemirror_mode": {
    "name": "ipython",
    "version": 3
   },
   "file_extension": ".py",
   "mimetype": "text/x-python",
   "name": "python",
   "nbconvert_exporter": "python",
   "pygments_lexer": "ipython3",
   "version": "3.6.10"
  }
 },
 "nbformat": 4,
 "nbformat_minor": 4
}
