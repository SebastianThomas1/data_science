{
 "cells": [
  {
   "cell_type": "markdown",
   "metadata": {},
   "source": [
    "# Linear regression\n",
    "\n",
    "An implementation of linear regression via least squares approximation.\n",
    "\n",
    "Sebastian Thomas (datascience at sebastianthomas dot de)"
   ]
  },
  {
   "cell_type": "code",
   "execution_count": null,
   "metadata": {},
   "outputs": [],
   "source": [
    "# data\n",
    "import numpy as np\n",
    "\n",
    "# machine learning\n",
    "from sklearn.base import BaseEstimator, RegressorMixin"
   ]
  },
  {
   "cell_type": "code",
   "execution_count": null,
   "metadata": {},
   "outputs": [],
   "source": [
    "# linear regression via least squares approximation\n",
    "class LinearRegression(BaseEstimator, RegressorMixin):\n",
    "    \n",
    "    def __init__(self, fit_intercept=True, method='gradient_descent', learning_rate=0.1,\n",
    "                 precision=None, max_iter=10000):\n",
    "        self.fit_intercept = fit_intercept\n",
    "        self.method = method\n",
    "        self.learning_rate = learning_rate\n",
    "        self.precision = precision\n",
    "        self.max_iter = max_iter\n",
    " \n",
    "    def _add_intercept_entries(self, X):\n",
    "        return np.concatenate((np.ones((X.shape[0], 1)), X), axis=1)\n",
    "    \n",
    "    def _euclidean_norm(x):\n",
    "        return math.sqrt(np.sum(x*x))\n",
    "\n",
    "    def _gradient_descent(self, X, y):\n",
    "        (m, n) = X.shape\n",
    "\n",
    "        # random initialisation\n",
    "        c = np.random.randn(n)\n",
    "\n",
    "        for _ in range(self.max_iter):\n",
    "            # determine gradient: grad MSE = 2/m X^T (X c - y)\n",
    "            gr = 2/m * np.matmul(X.transpose(), np.matmul(X, c) - y)\n",
    "            # eventually stop if gradient is too small\n",
    "            if self.precision != None and euclidean_norm(gr) < self.precision:\n",
    "                break\n",
    "            # update argument by subtracting step\n",
    "            c -= self.learning_rate*gr\n",
    "\n",
    "        return c\n",
    "\n",
    "    def fit(self, X, y):\n",
    "        if self.fit_intercept:\n",
    "            X = self._add_intercept_entries(X)\n",
    "        \n",
    "        if self.method == 'gradient_descent':\n",
    "            self.coef_ = self._gradient_descent(X, y)\n",
    "        elif self.method == 'closed_formula':\n",
    "            self.coef_ = np.linalg.solve(np.matmul(X.transpose(), X), np.matmul(X.transpose(), y))\n",
    "        \n",
    "        return self\n",
    "    \n",
    "    def predict(self, X):\n",
    "        if self.fit_intercept:\n",
    "            X = self._add_intercept_entries(X)\n",
    "\n",
    "        return np.matmul(X, self.coef_)"
   ]
  },
  {
   "cell_type": "code",
   "execution_count": null,
   "metadata": {},
   "outputs": [],
   "source": [
    "# example\n",
    "import math\n",
    "\n",
    "from sklearn.datasets import load_boston\n",
    "from sklearn.pipeline import make_pipeline\n",
    "from sklearn.preprocessing import StandardScaler\n",
    "from sklearn.model_selection import train_test_split\n",
    "from sklearn.metrics import r2_score, mean_squared_error\n",
    "\n",
    "(X, y) = load_boston(return_X_y=True)\n",
    "\n",
    "(X_train, X_test, y_train, y_test) = train_test_split(X, y, random_state=0)\n",
    "\n",
    "regressor = make_pipeline(StandardScaler(), LinearRegression())\n",
    "regressor.fit(X_train, y_train)\n",
    "\n",
    "print('R squared:', r2_score(y_test, regressor.predict(X_test)))\n",
    "print('root mean squared error:', math.sqrt(mean_squared_error(y_test, regressor.predict(X_test))))"
   ]
  },
  {
   "cell_type": "code",
   "execution_count": null,
   "metadata": {},
   "outputs": [],
   "source": [
    "regressor = make_pipeline(StandardScaler(), LinearRegression(method='closed_formula'))\n",
    "regressor.fit(X_train, y_train)\n",
    "\n",
    "print('R squared:', r2_score(y_test, regressor.predict(X_test)))\n",
    "print('root mean squared error:', math.sqrt(mean_squared_error(y_test, regressor.predict(X_test))))"
   ]
  }
 ],
 "metadata": {
  "kernelspec": {
   "display_name": "Python 3",
   "language": "python",
   "name": "python3"
  },
  "language_info": {
   "codemirror_mode": {
    "name": "ipython",
    "version": 3
   },
   "file_extension": ".py",
   "mimetype": "text/x-python",
   "name": "python",
   "nbconvert_exporter": "python",
   "pygments_lexer": "ipython3",
   "version": "3.6.10"
  },
  "toc": {
   "base_numbering": 1,
   "nav_menu": {},
   "number_sections": false,
   "sideBar": true,
   "skip_h1_title": false,
   "title_cell": "Table of Contents",
   "title_sidebar": "Contents",
   "toc_cell": false,
   "toc_position": {},
   "toc_section_display": true,
   "toc_window_display": false
  }
 },
 "nbformat": 4,
 "nbformat_minor": 4
}
