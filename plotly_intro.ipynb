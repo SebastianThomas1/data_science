{
 "cells": [
  {
   "cell_type": "markdown",
   "metadata": {},
   "source": [
    "# Introduction to Plotly\n",
    "Frauke Albrecht, Bendix Haß, Marcel Meyer, Sebastian Thomas @ neue fische Bootcamp Data Science\n",
    "\n",
    "- **Interactive plots**\n",
    "- Product of the company Plotly\n",
    "- Graphs can be stored ...\n",
    "  * ... online in a personal plotly profile\n",
    "  * ... locally (interactive as .html or static as .png export)\n",
    "- Open source plotting library with over 40 different chart types (some in 3D)\n",
    "- Geo support if data should be displayed in a countries shape\n",
    "- Easy to get a first impression of the data\n",
    "\n",
    "In this introduction, we concentrate on `plotly.graph_objects`. There are other possibilities to import plotly graphics.\n",
    "\n",
    "Tutorial: [https://plot.ly/python/](https://plot.ly/python/), cheat sheet: [https://images.plot.ly/plotly-documentation/images/python_cheat_sheet.pdf](https://images.plot.ly/plotly-documentation/images/python_cheat_sheet.pdf)"
   ]
  },
  {
   "cell_type": "markdown",
   "metadata": {},
   "source": [
    "## Installation\n",
    "If plotly isn't installed in environment (nf.yml does contain plotly), run the following line:"
   ]
  },
  {
   "cell_type": "code",
   "execution_count": null,
   "metadata": {},
   "outputs": [],
   "source": [
    "# %conda install plotly"
   ]
  },
  {
   "cell_type": "markdown",
   "metadata": {},
   "source": [
    "## Import\n",
    "We import some packages, in particular `plotly.graph_objects` as well as some well-known data set."
   ]
  },
  {
   "cell_type": "code",
   "execution_count": null,
   "metadata": {},
   "outputs": [],
   "source": [
    "import plotly.graph_objects as go\n",
    "import pandas as pd\n",
    "import matplotlib.pyplot as plt"
   ]
  },
  {
   "cell_type": "code",
   "execution_count": null,
   "metadata": {},
   "outputs": [],
   "source": [
    "df = pd.read_csv('winequality-red.csv', delimiter=';')\n",
    "df.columns"
   ]
  },
  {
   "cell_type": "markdown",
   "metadata": {},
   "source": [
    "## Create a histogram\n",
    "The creation of an interactive plotly graphic with `go` follows two steps: First, we create a data object, here a `Histogram` object, which stores the data as well as additional information to display the data in the desired format, such as e.g. a `name`. Second, we use the `Figure` object to display the data."
   ]
  },
  {
   "cell_type": "code",
   "execution_count": null,
   "metadata": {},
   "outputs": [],
   "source": [
    "data = go.Histogram(x=df['quality'], name='Quality')\n",
    "print(type(data))\n",
    "data"
   ]
  },
  {
   "cell_type": "code",
   "execution_count": null,
   "metadata": {},
   "outputs": [],
   "source": [
    "fig = go.Figure(data, layout={'title': 'Histogram of quality', \n",
    "                              'xaxis_title': 'Quality',\n",
    "                              'yaxis_title': 'Frequency'})\n",
    "print(type(fig))\n",
    "fig.show() # or just fig as it is the last row in this cell"
   ]
  },
  {
   "cell_type": "markdown",
   "metadata": {},
   "source": [
    "Of course, we could combine the steps, if we wanted:"
   ]
  },
  {
   "cell_type": "code",
   "execution_count": null,
   "metadata": {},
   "outputs": [],
   "source": [
    "go.Figure(go.Histogram(x=df['quality'], name='Quality'),\n",
    "          layout={'title': 'Histogram of quality',\n",
    "                  'xaxis_title': 'Quality',\n",
    "                  'yaxis_title': 'Frequency'}\n",
    "         ).show()"
   ]
  },
  {
   "cell_type": "markdown",
   "metadata": {},
   "source": [
    "## Create a scatter plot"
   ]
  },
  {
   "cell_type": "code",
   "execution_count": null,
   "metadata": {},
   "outputs": [],
   "source": [
    "data = go.Scatter(x=df['free sulfur dioxide'], y=df['total sulfur dioxide'], mode='markers')\n",
    "print(type(data))\n",
    "data"
   ]
  },
  {
   "cell_type": "code",
   "execution_count": null,
   "metadata": {},
   "outputs": [],
   "source": [
    "fig = go.Figure(data, layout={'title': 'Scatter plot: Free vs total sulfur dioxide',\n",
    "                              'xaxis_title': 'Free sulfur dioxide',\n",
    "                              'yaxis_title': 'Total sulfur dioxide'})\n",
    "fig.show()"
   ]
  },
  {
   "cell_type": "markdown",
   "metadata": {},
   "source": [
    "## Create a box plot"
   ]
  },
  {
   "cell_type": "code",
   "execution_count": null,
   "metadata": {},
   "outputs": [],
   "source": [
    "data1 = go.Box(y=df['fixed acidity'], name='fixed acidity')\n",
    "data2 = go.Box(y=df['alcohol'], name='alcohol')\n",
    "print(type(data1))\n",
    "data1"
   ]
  },
  {
   "cell_type": "code",
   "execution_count": null,
   "metadata": {},
   "outputs": [],
   "source": [
    "fig = go.Figure(data1, layout={'title': 'Box plot of total sulfur dioxide',\n",
    "                               'yaxis_title': 'Total sulfur dioxide'})\n",
    "fig.show()"
   ]
  },
  {
   "cell_type": "code",
   "execution_count": null,
   "metadata": {},
   "outputs": [],
   "source": [
    "fig = go.Figure([data1, data2], layout={'title': 'Box plots of fixed acidity and alcohol'})\n",
    "fig.show()"
   ]
  },
  {
   "cell_type": "markdown",
   "metadata": {},
   "source": [
    "## Creating a bar plot"
   ]
  },
  {
   "cell_type": "code",
   "execution_count": null,
   "metadata": {},
   "outputs": [],
   "source": [
    "data = go.Bar(y=df['sulphates'].iloc[0:20])\n",
    "print(type(data))\n",
    "data"
   ]
  },
  {
   "cell_type": "code",
   "execution_count": null,
   "metadata": {},
   "outputs": [],
   "source": [
    "fig = go.Figure(data, layout={'title': 'Bar plot of some sulphate values (restricted to first 20 observations)',\n",
    "                              'xaxis_title': 'Index of observation',\n",
    "                              'yaxis_title': 'Concentration of sulphates'})\n",
    "fig.show()"
   ]
  },
  {
   "cell_type": "markdown",
   "metadata": {},
   "source": [
    "## Creating a Heatmap (with correlation)"
   ]
  },
  {
   "cell_type": "code",
   "execution_count": null,
   "metadata": {},
   "outputs": [],
   "source": [
    "wine_corr = df.corr()\n",
    "data = go.Heatmap(z=wine_corr, x=wine_corr.columns, y=wine_corr.columns,\n",
    "                  hovertemplate='Feat1: %{x}<br />Feat2: %{y}<br />Corr: %{z}')\n",
    "print(type(data))\n",
    "data"
   ]
  },
  {
   "cell_type": "code",
   "execution_count": null,
   "metadata": {},
   "outputs": [],
   "source": [
    "fig = go.Figure(data, layout={'title': 'Heatmap of series correlation for red-wine'})\n",
    "fig.show()"
   ]
  },
  {
   "cell_type": "markdown",
   "metadata": {},
   "source": [
    "## Summary\n",
    "### Workflow\n",
    "1. Create the data object\n",
    "    * `data = go.<plot name>(<appropriate arguments>)`\n",
    "2. Create the figure object\n",
    "    * `fig = go.Figure(data, <optional arguments>)`\n",
    "    * `<optional arguments>` may be: `layout={<flag> : <value>}`\n",
    "3. Show the figure\n",
    "    * `fig.show()`"
   ]
  },
  {
   "cell_type": "markdown",
   "metadata": {},
   "source": [
    "## And there is much, much more..."
   ]
  },
  {
   "cell_type": "code",
   "execution_count": null,
   "metadata": {},
   "outputs": [],
   "source": [
    "data = go.Scatter3d(x=df['volatile acidity'], y=df['citric acid'], z=df['fixed acidity'], mode='markers', \n",
    "                    marker=dict(size=2))\n",
    "fig = go.Figure(data, layout={'title': 'Some fancy 3d plot'})\n",
    "fig.show()"
   ]
  },
  {
   "cell_type": "code",
   "execution_count": null,
   "metadata": {},
   "outputs": [],
   "source": [
    "df = pd.read_csv('https://raw.githubusercontent.com/plotly/datasets/master/2011_february_us_airport_traffic.csv')\n",
    "df['text'] = df['airport'] + ' ' + df['city'] + ', ' + df['state'] + ' ' + 'Arrivals: ' + df['cnt'].astype(str)\n",
    "\n",
    "data = go.Scattergeo(lon = df['long'], lat = df['lat'], text = df['text'], mode = 'markers',\n",
    "                     marker_color = df['cnt'])\n",
    "fig = go.Figure(data)\n",
    "fig.update_layout(\n",
    "    title = 'Even maps are possible:<br />Most trafficked US airports<br />(Hover for airport names)',\n",
    "    geo_scope='usa')\n",
    "fig.show()"
   ]
  }
 ],
 "metadata": {
  "kernelspec": {
   "display_name": "Python [conda env:nf] *",
   "language": "python",
   "name": "conda-env-nf-py"
  },
  "language_info": {
   "codemirror_mode": {
    "name": "ipython",
    "version": 3
   },
   "file_extension": ".py",
   "mimetype": "text/x-python",
   "name": "python",
   "nbconvert_exporter": "python",
   "pygments_lexer": "ipython3",
   "version": "3.6.10"
  }
 },
 "nbformat": 4,
 "nbformat_minor": 4
}
